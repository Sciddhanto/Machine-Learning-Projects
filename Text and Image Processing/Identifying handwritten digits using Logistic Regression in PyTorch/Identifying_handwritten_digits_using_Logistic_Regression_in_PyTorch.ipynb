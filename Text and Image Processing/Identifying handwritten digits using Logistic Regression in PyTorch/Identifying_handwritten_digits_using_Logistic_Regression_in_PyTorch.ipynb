{
  "nbformat": 4,
  "nbformat_minor": 0,
  "metadata": {
    "colab": {
      "provenance": []
    },
    "kernelspec": {
      "name": "python3",
      "display_name": "Python 3"
    },
    "language_info": {
      "name": "python"
    }
  },
  "cells": [
    {
      "cell_type": "code",
      "execution_count": null,
      "metadata": {
        "id": "vQbjHh3dghYE"
      },
      "outputs": [],
      "source": [
        "import torch\n",
        "import torch.nn as nn\n",
        "import torchvision.datasets as dsets\n",
        "import torchvision.transforms as transforms\n",
        "from torch.autograd import Variable"
      ]
    },
    {
      "cell_type": "code",
      "source": [
        "# Set the batch size\n",
        "batch_size = 64\n",
        "\n",
        "# MNIST Dataset (Images and Labels)\n",
        "train_dataset = dsets.MNIST(root ='./data',\n",
        "\t\t\t\t\t\t\ttrain = True,\n",
        "\t\t\t\t\t\t\ttransform = transforms.ToTensor(),\n",
        "\t\t\t\t\t\t\tdownload = True)\n",
        "\n",
        "test_dataset = dsets.MNIST(root ='./data',\n",
        "\t\t\t\t\t\ttrain = False,\n",
        "\t\t\t\t\t\ttransform = transforms.ToTensor())\n",
        "\n",
        "# Dataset Loader (Input Pipeline)\n",
        "train_loader = torch.utils.data.DataLoader(dataset = train_dataset,\n",
        "\t\t\t\t\t\t\t\t\t\tbatch_size = batch_size,\n",
        "\t\t\t\t\t\t\t\t\t\tshuffle = True)\n",
        "\n",
        "test_loader = torch.utils.data.DataLoader(dataset = test_dataset,\n",
        "\t\t\t\t\t\t\t\t\t\tbatch_size = batch_size,\n",
        "\t\t\t\t\t\t\t\t\t\tshuffle = False)"
      ],
      "metadata": {
        "id": "D3zaVXg1gpEG"
      },
      "execution_count": null,
      "outputs": []
    },
    {
      "cell_type": "code",
      "source": [
        "# Hyper Parameters\n",
        "input_size = 784\n",
        "num_classes = 10\n",
        "num_epochs = 5\n",
        "batch_size = 100\n",
        "learning_rate = 0.001"
      ],
      "metadata": {
        "id": "h4dmDcp4gtId"
      },
      "execution_count": null,
      "outputs": []
    },
    {
      "cell_type": "code",
      "source": [
        "class LogisticRegression(nn.Module):\n",
        "\tdef __init__(self, input_size, num_classes):\n",
        "\t\tsuper(LogisticRegression, self).__init__()\n",
        "\t\tself.linear = nn.Linear(input_size, num_classes)\n",
        "\n",
        "\tdef forward(self, x):\n",
        "\t\tout = self.linear(x)\n",
        "\t\treturn out"
      ],
      "metadata": {
        "id": "9e_CjA9qgvBD"
      },
      "execution_count": null,
      "outputs": []
    },
    {
      "cell_type": "code",
      "source": [
        "model = LogisticRegression(input_size, num_classes)"
      ],
      "metadata": {
        "id": "C_9iXdP3gw7K"
      },
      "execution_count": null,
      "outputs": []
    },
    {
      "cell_type": "code",
      "source": [
        "criterion = nn.CrossEntropyLoss()\n",
        "optimizer = torch.optim.SGD(model.parameters(), lr = learning_rate)"
      ],
      "metadata": {
        "id": "orbmccn2gynn"
      },
      "execution_count": null,
      "outputs": []
    },
    {
      "source": [
        "# Training the Model\n",
        "for epoch in range(num_epochs):\n",
        "\tfor i, (images, labels) in enumerate(train_loader):\n",
        "\t\timages = Variable(images.view(-1, 28 * 28))\n",
        "\t\tlabels = Variable(labels)\n",
        "\n",
        "\t\t# Forward + Backward + Optimize\n",
        "\t\toptimizer.zero_grad()\n",
        "\t\toutputs = model(images)\n",
        "\t\tloss = criterion(outputs, labels)\n",
        "\t\tloss.backward()\n",
        "\t\toptimizer.step()\n",
        "\n",
        "\t\tif (i + 1) % 100 == 0:\n",
        "\t\t\tprint('Epoch: [% d/% d], Step: [% d/% d], Loss: %.4f'\n",
        "\t\t\t\t% (epoch + 1, num_epochs, i + 1,\n",
        "\t\t\t\t\tlen(train_dataset) // batch_size, loss.item())) # Use loss.item() to get the scalar value"
      ],
      "cell_type": "code",
      "metadata": {
        "colab": {
          "base_uri": "https://localhost:8080/"
        },
        "id": "TiLYnDy1iRlK",
        "outputId": "55d451fc-e139-4413-c8dd-3dbaf4348e32"
      },
      "execution_count": null,
      "outputs": [
        {
          "output_type": "stream",
          "name": "stdout",
          "text": [
            "Epoch: [ 1/ 5], Step: [ 100/ 600], Loss: 2.1937\n",
            "Epoch: [ 1/ 5], Step: [ 200/ 600], Loss: 2.0729\n",
            "Epoch: [ 1/ 5], Step: [ 300/ 600], Loss: 2.0136\n",
            "Epoch: [ 1/ 5], Step: [ 400/ 600], Loss: 1.9536\n",
            "Epoch: [ 1/ 5], Step: [ 500/ 600], Loss: 1.8419\n",
            "Epoch: [ 1/ 5], Step: [ 600/ 600], Loss: 1.8161\n",
            "Epoch: [ 1/ 5], Step: [ 700/ 600], Loss: 1.7823\n",
            "Epoch: [ 1/ 5], Step: [ 800/ 600], Loss: 1.7664\n",
            "Epoch: [ 1/ 5], Step: [ 900/ 600], Loss: 1.6208\n",
            "Epoch: [ 2/ 5], Step: [ 100/ 600], Loss: 1.4816\n",
            "Epoch: [ 2/ 5], Step: [ 200/ 600], Loss: 1.5217\n",
            "Epoch: [ 2/ 5], Step: [ 300/ 600], Loss: 1.4717\n",
            "Epoch: [ 2/ 5], Step: [ 400/ 600], Loss: 1.3438\n",
            "Epoch: [ 2/ 5], Step: [ 500/ 600], Loss: 1.3774\n",
            "Epoch: [ 2/ 5], Step: [ 600/ 600], Loss: 1.3902\n",
            "Epoch: [ 2/ 5], Step: [ 700/ 600], Loss: 1.2295\n",
            "Epoch: [ 2/ 5], Step: [ 800/ 600], Loss: 1.2634\n",
            "Epoch: [ 2/ 5], Step: [ 900/ 600], Loss: 1.2239\n",
            "Epoch: [ 3/ 5], Step: [ 100/ 600], Loss: 1.0138\n",
            "Epoch: [ 3/ 5], Step: [ 200/ 600], Loss: 1.2124\n",
            "Epoch: [ 3/ 5], Step: [ 300/ 600], Loss: 1.1116\n",
            "Epoch: [ 3/ 5], Step: [ 400/ 600], Loss: 1.1184\n",
            "Epoch: [ 3/ 5], Step: [ 500/ 600], Loss: 1.0644\n",
            "Epoch: [ 3/ 5], Step: [ 600/ 600], Loss: 1.0069\n",
            "Epoch: [ 3/ 5], Step: [ 700/ 600], Loss: 1.0746\n",
            "Epoch: [ 3/ 5], Step: [ 800/ 600], Loss: 0.9651\n",
            "Epoch: [ 3/ 5], Step: [ 900/ 600], Loss: 1.0946\n",
            "Epoch: [ 4/ 5], Step: [ 100/ 600], Loss: 0.9843\n",
            "Epoch: [ 4/ 5], Step: [ 200/ 600], Loss: 1.0725\n",
            "Epoch: [ 4/ 5], Step: [ 300/ 600], Loss: 0.9884\n",
            "Epoch: [ 4/ 5], Step: [ 400/ 600], Loss: 0.9072\n",
            "Epoch: [ 4/ 5], Step: [ 500/ 600], Loss: 0.9107\n",
            "Epoch: [ 4/ 5], Step: [ 600/ 600], Loss: 0.9931\n",
            "Epoch: [ 4/ 5], Step: [ 700/ 600], Loss: 0.8737\n",
            "Epoch: [ 4/ 5], Step: [ 800/ 600], Loss: 1.0183\n",
            "Epoch: [ 4/ 5], Step: [ 900/ 600], Loss: 0.8730\n",
            "Epoch: [ 5/ 5], Step: [ 100/ 600], Loss: 0.8207\n",
            "Epoch: [ 5/ 5], Step: [ 200/ 600], Loss: 0.9312\n",
            "Epoch: [ 5/ 5], Step: [ 300/ 600], Loss: 0.7678\n",
            "Epoch: [ 5/ 5], Step: [ 400/ 600], Loss: 0.9113\n",
            "Epoch: [ 5/ 5], Step: [ 500/ 600], Loss: 0.9696\n",
            "Epoch: [ 5/ 5], Step: [ 600/ 600], Loss: 0.8845\n",
            "Epoch: [ 5/ 5], Step: [ 700/ 600], Loss: 0.8194\n",
            "Epoch: [ 5/ 5], Step: [ 800/ 600], Loss: 0.7577\n",
            "Epoch: [ 5/ 5], Step: [ 900/ 600], Loss: 0.7497\n"
          ]
        }
      ]
    },
    {
      "cell_type": "code",
      "source": [
        "# Test the Model\n",
        "correct = 0\n",
        "total = 0\n",
        "for images, labels in test_loader:\n",
        "\timages = Variable(images.view(-1, 28 * 28))\n",
        "\toutputs = model(images)\n",
        "\t_, predicted = torch.max(outputs.data, 1)\n",
        "\ttotal += labels.size(0)\n",
        "\tcorrect += (predicted == labels).sum()\n",
        "\n",
        "print('Accuracy of the model on the 10000 test images: % d %%' % (\n",
        "\t\t\t100 * correct / total))"
      ],
      "metadata": {
        "colab": {
          "base_uri": "https://localhost:8080/"
        },
        "id": "si7EkdZtg1vX",
        "outputId": "e8dce92d-cc1c-4e6c-8ba4-b42c49aad2f7"
      },
      "execution_count": null,
      "outputs": [
        {
          "output_type": "stream",
          "name": "stdout",
          "text": [
            "Accuracy of the model on the 10000 test images:  84 %\n"
          ]
        }
      ]
    },
    {
      "cell_type": "code",
      "source": [
        "import torch\n",
        "import torch.nn as nn\n",
        "import torchvision.datasets as dsets\n",
        "import torchvision.transforms as transforms\n",
        "from torch.autograd import Variable\n",
        "\n",
        "\n",
        "# MNIST Dataset (Images and Labels)\n",
        "train_dataset = dsets.MNIST(root ='./data',\n",
        "\t\t\t\t\t\t\ttrain = True,\n",
        "\t\t\t\t\t\t\ttransform = transforms.ToTensor(),\n",
        "\t\t\t\t\t\t\tdownload = True)\n",
        "\n",
        "test_dataset = dsets.MNIST(root ='./data',\n",
        "\t\t\t\t\t\ttrain = False,\n",
        "\t\t\t\t\t\ttransform = transforms.ToTensor())\n",
        "\n",
        "# Dataset Loader (Input Pipeline)\n",
        "train_loader = torch.utils.data.DataLoader(dataset = train_dataset,\n",
        "\t\t\t\t\t\t\t\t\t\tbatch_size = batch_size,\n",
        "\t\t\t\t\t\t\t\t\t\tshuffle = True)\n",
        "\n",
        "test_loader = torch.utils.data.DataLoader(dataset = test_dataset,\n",
        "\t\t\t\t\t\t\t\t\t\tbatch_size = batch_size,\n",
        "\t\t\t\t\t\t\t\t\t\tshuffle = False)\n",
        "\n",
        "# Hyper Parameters\n",
        "input_size = 784\n",
        "num_classes = 10\n",
        "num_epochs = 5\n",
        "batch_size = 100\n",
        "learning_rate = 0.001\n",
        "\n",
        "# Model\n",
        "class LogisticRegression(nn.Module):\n",
        "\tdef __init__(self, input_size, num_classes):\n",
        "\t\tsuper(LogisticRegression, self).__init__()\n",
        "\t\tself.linear = nn.Linear(input_size, num_classes)\n",
        "\n",
        "\tdef forward(self, x):\n",
        "\t\tout = self.linear(x)\n",
        "\t\treturn out\n",
        "\n",
        "\n",
        "model = LogisticRegression(input_size, num_classes)\n",
        "\n",
        "# Loss and Optimizer\n",
        "# Softmax is internally computed.\n",
        "# Set parameters to be updated.\n",
        "criterion = nn.CrossEntropyLoss()\n",
        "optimizer = torch.optim.SGD(model.parameters(), lr = learning_rate)\n",
        "\n",
        "# Training the Model\n",
        "for epoch in range(num_epochs):\n",
        "\tfor i, (images, labels) in enumerate(train_loader):\n",
        "\t\timages = Variable(images.view(-1, 28 * 28))\n",
        "\t\tlabels = Variable(labels)\n",
        "\n",
        "\t\t# Forward + Backward + Optimize\n",
        "\t\toptimizer.zero_grad()\n",
        "\t\toutputs = model(images)\n",
        "\t\tloss = criterion(outputs, labels)\n",
        "\t\tloss.backward()\n",
        "\t\toptimizer.step()\n",
        "\n",
        "\t\tif (i + 1) % 100 == 0:\n",
        "\t\t\tprint('Epoch: [% d/% d], Step: [% d/% d], Loss: %.4f'\n",
        "\t\t\t\t% (epoch + 1, num_epochs, i + 1,\n",
        "\t\t\t\t\tlen(train_dataset) // batch_size, loss.item()))\n",
        "\n",
        "# Test the Model\n",
        "correct = 0\n",
        "total = 0\n",
        "for images, labels in test_loader:\n",
        "\timages = Variable(images.view(-1, 28 * 28))\n",
        "\toutputs = model(images)\n",
        "\t_, predicted = torch.max(outputs.data, 1)\n",
        "\ttotal += labels.size(0)\n",
        "\tcorrect += (predicted == labels).sum()\n",
        "\n",
        "print('Accuracy of the model on the 10000 test images: % d %%' % (\n",
        "\t\t\t100 * correct / total))"
      ],
      "metadata": {
        "colab": {
          "base_uri": "https://localhost:8080/"
        },
        "id": "Xn-YUWUlg5I_",
        "outputId": "a599d96b-f643-4421-ec0c-e974e2972ee9"
      },
      "execution_count": null,
      "outputs": [
        {
          "output_type": "stream",
          "name": "stdout",
          "text": [
            "Epoch: [ 1/ 5], Step: [ 100/ 600], Loss: 2.2127\n",
            "Epoch: [ 1/ 5], Step: [ 200/ 600], Loss: 2.1009\n",
            "Epoch: [ 1/ 5], Step: [ 300/ 600], Loss: 2.0020\n",
            "Epoch: [ 1/ 5], Step: [ 400/ 600], Loss: 1.9426\n",
            "Epoch: [ 1/ 5], Step: [ 500/ 600], Loss: 1.9161\n",
            "Epoch: [ 1/ 5], Step: [ 600/ 600], Loss: 1.7942\n",
            "Epoch: [ 2/ 5], Step: [ 100/ 600], Loss: 1.7794\n",
            "Epoch: [ 2/ 5], Step: [ 200/ 600], Loss: 1.6350\n",
            "Epoch: [ 2/ 5], Step: [ 300/ 600], Loss: 1.6210\n",
            "Epoch: [ 2/ 5], Step: [ 400/ 600], Loss: 1.6226\n",
            "Epoch: [ 2/ 5], Step: [ 500/ 600], Loss: 1.5117\n",
            "Epoch: [ 2/ 5], Step: [ 600/ 600], Loss: 1.3767\n",
            "Epoch: [ 3/ 5], Step: [ 100/ 600], Loss: 1.4091\n",
            "Epoch: [ 3/ 5], Step: [ 200/ 600], Loss: 1.3804\n",
            "Epoch: [ 3/ 5], Step: [ 300/ 600], Loss: 1.3727\n",
            "Epoch: [ 3/ 5], Step: [ 400/ 600], Loss: 1.2697\n",
            "Epoch: [ 3/ 5], Step: [ 500/ 600], Loss: 1.2719\n",
            "Epoch: [ 3/ 5], Step: [ 600/ 600], Loss: 1.2932\n",
            "Epoch: [ 4/ 5], Step: [ 100/ 600], Loss: 1.3018\n",
            "Epoch: [ 4/ 5], Step: [ 200/ 600], Loss: 1.2399\n",
            "Epoch: [ 4/ 5], Step: [ 300/ 600], Loss: 1.1748\n",
            "Epoch: [ 4/ 5], Step: [ 400/ 600], Loss: 1.0913\n",
            "Epoch: [ 4/ 5], Step: [ 500/ 600], Loss: 1.1653\n",
            "Epoch: [ 4/ 5], Step: [ 600/ 600], Loss: 1.0840\n",
            "Epoch: [ 5/ 5], Step: [ 100/ 600], Loss: 1.0235\n",
            "Epoch: [ 5/ 5], Step: [ 200/ 600], Loss: 1.0301\n",
            "Epoch: [ 5/ 5], Step: [ 300/ 600], Loss: 0.9974\n",
            "Epoch: [ 5/ 5], Step: [ 400/ 600], Loss: 0.9303\n",
            "Epoch: [ 5/ 5], Step: [ 500/ 600], Loss: 1.0271\n",
            "Epoch: [ 5/ 5], Step: [ 600/ 600], Loss: 0.9955\n",
            "Accuracy of the model on the 10000 test images:  82 %\n"
          ]
        }
      ]
    }
  ]
}